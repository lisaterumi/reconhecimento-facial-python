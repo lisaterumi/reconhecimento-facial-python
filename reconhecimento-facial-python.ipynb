{
 "cells": [
  {
   "cell_type": "markdown",
   "metadata": {},
   "source": [
    "# Reconhecimento facial com Python\n",
    "\n",
    "Veja aqui como reconhecer e manipular faces de forma muito simples com a biblioteca ```face_recognition```, usando o reconhecimento facial de última geração da ```dlib```, com aprendizado profundo. \n",
    "\n",
    "Aqui veremos como uma ferramenta simples de linha de comando ```face_recognition``` para o reconhecimento facial com linha de comando.\n",
    "\n",
    "Adptado de: https://pypi.org/project/face-recognition/ e https://github.com/ageitgey/face_recognition\n",
    "\n",
    "### Biblioteca\n",
    "\n",
    "Primeiro, instale a biblioteca ```face-recognition```:\n",
    "\n",
    "```pip install face-recognition```\n",
    "\n",
    "Obs: Caso ocorra erro ao instalar o ```dlib```, faça o seguinte:\n",
    "\n",
    "1. Instale anaconda\n",
    "1. Execute os comandos no *shell*\n",
    "\n",
    "```conda update conda```\n",
    "\n",
    "```conda update anaconda```\n",
    "\n",
    "```create new environment conda create -n env_dlib python=3.6```\n",
    "\n",
    "```activate enviroment conda activate env_dlib```\n",
    "\n",
    "```install dlib conda install -c conda-forge dlib```\n",
    "\n",
    "3. Verifique a instalação via cmd:\n",
    "\n",
    "```>> python```\n",
    "\n",
    "```import dlib```\n",
    "\n",
    "```dlib.__version__```\n",
    "\n",
    "### Como usar\n",
    "\n",
    "Primeiro, vamos importar as bibliotecas necessárias:"
   ]
  },
  {
   "cell_type": "code",
   "execution_count": 36,
   "metadata": {},
   "outputs": [],
   "source": [
    "import face_recognition\n",
    "from PIL import Image, ImageDraw\n",
    "import numpy as np"
   ]
  },
  {
   "cell_type": "markdown",
   "metadata": {},
   "source": [
    "Com o módulo ```face_recognition``` podemos  reconhecer rostos em uma fotografia. Vamos carregar a imagem em um *array* ```numpy``` e procurar por todas as faces na imagem."
   ]
  },
  {
   "cell_type": "code",
   "execution_count": 37,
   "metadata": {},
   "outputs": [],
   "source": [
    "image = face_recognition.load_image_file(\"img/reconhecimento-facial2.jpg\")\n",
    "face_locations = face_recognition.face_locations(image)"
   ]
  },
  {
   "cell_type": "markdown",
   "metadata": {},
   "source": [
    "### Localização das faces na imagem\n",
    "\n",
    "Para cada face encontrada, vamos imprimir a localização de cada rosto na imagem e exibir um recorte das faces.\n",
    "\n",
    "Esta é a imagem de entrada:\n",
    "\n",
    "<img src=\"img/reconhecimento-facial2.jpg\" alt=\"reconhecimento-facial2.jpg\"/>"
   ]
  },
  {
   "cell_type": "code",
   "execution_count": 43,
   "metadata": {},
   "outputs": [
    {
     "name": "stdout",
     "output_type": "stream",
     "text": [
      "Encontrei 2 face(s) nesta fotografia.\n",
      "Uma face está localizada aqui: Topo: 149, Esquerda: 100, Base: 211, Direita: 163\n",
      "Uma face está localizada aqui: Topo: 55, Esquerda: 270, Base: 130, Direita: 345\n"
     ]
    }
   ],
   "source": [
    "print(\"Encontrei {} face(s) nesta fotografia.\".format(len(face_locations)))\n",
    "\n",
    "for face_location in face_locations:\n",
    "\n",
    "    # localização das faces \n",
    "    top, right, bottom, left = face_location\n",
    "    print(\"Uma face está localizada aqui: Topo: {}, Esquerda: {}, Base: {}, Direita: {}\".format(top, left, bottom, right))\n",
    "\n",
    "    # Acessando a face\n",
    "    face_image = image[top:bottom, left:right]\n",
    "    pil_image = Image.fromarray(face_image)\n",
    "    pil_image.show()\n",
    "    \n",
    "    "
   ]
  },
  {
   "cell_type": "markdown",
   "metadata": {},
   "source": [
    "Estas são as imagens exibidas:\n",
    "\n",
    "<img src=\"img/face1.jpg\" alt=\"face1.jpg\"/>\n",
    "<img src=\"img/face2.jpg\" alt=\"face2.jpg\"/>\n",
    "\n",
    "### Desenhando um retângulo nas faces\n",
    "\n",
    "Agora vamos desenhar um retângulo vermelho em cada faze reconhecida e plotar a nova imagem."
   ]
  },
  {
   "cell_type": "code",
   "execution_count": 40,
   "metadata": {},
   "outputs": [],
   "source": [
    "image_box = Image.fromarray(image)\n",
    "draw = ImageDraw.Draw(image_box)\n",
    "\n",
    "for (top, right, bottom, left) in face_locations:\n",
    "\n",
    "    # Desenha um retângulo em volta da face com o módulo Pillow\n",
    "    draw.rectangle(((left, top), (right, bottom)), outline=\"red\")\n",
    "\n",
    "    # Escreve um rótulo\n",
    "    text_width, text_height = draw.textsize(\"pessoa\")\n",
    "    draw.rectangle(((left, bottom - text_height - 10), (right, bottom)), fill=(0, 0, 255), outline=(0, 0, 255))\n",
    "    draw.text((left + 6, bottom - text_height - 5), \"pessoa\", fill=(255, 255, 255, 255))\n",
    "    \n",
    "image_box.show()\n",
    "# para salvar a nova imagem:\n",
    "#image_box.save(\"nova_imagem.jpg\")\n",
    "# Removendo a bilbioteca de desenho da memória \n",
    "del draw\n"
   ]
  },
  {
   "cell_type": "markdown",
   "metadata": {},
   "source": [
    "Saída:\n",
    "\n",
    "<img src=\"img/nova_imagem.jpg\" alt=\"nova_imagem.jpg\"/>\n",
    "\n",
    "### Trançando linhas e pontos nas faces encontradas\n",
    "\n",
    "Agora vamos desenhar nas faces encontradas."
   ]
  },
  {
   "cell_type": "code",
   "execution_count": 41,
   "metadata": {},
   "outputs": [
    {
     "name": "stdout",
     "output_type": "stream",
     "text": [
      "O(a) chin nesta face tem os seguintes pontos: [(94, 175), (94, 184), (95, 192), (99, 200), (105, 206), (113, 211), (122, 215), (130, 219), (137, 219), (141, 216), (143, 210), (145, 204), (148, 198), (150, 192), (151, 185), (152, 179), (151, 172)]\n",
      "O(a) left_eyebrow nesta face tem os seguintes pontos: [(110, 171), (115, 169), (120, 168), (126, 168), (132, 169)]\n",
      "O(a) right_eyebrow nesta face tem os seguintes pontos: [(141, 168), (143, 166), (146, 164), (149, 162), (152, 163)]\n",
      "O(a) nose_bridge nesta face tem os seguintes pontos: [(137, 174), (138, 179), (140, 184), (141, 189)]\n",
      "O(a) nose_tip nesta face tem os seguintes pontos: [(133, 193), (136, 194), (140, 194), (142, 193), (143, 191)]\n",
      "O(a) left_eye nesta face tem os seguintes pontos: [(117, 176), (120, 174), (124, 174), (127, 175), (124, 177), (120, 177)]\n",
      "O(a) right_eye nesta face tem os seguintes pontos: [(140, 173), (142, 170), (145, 170), (147, 171), (146, 172), (143, 173)]\n",
      "O(a) top_lip nesta face tem os seguintes pontos: [(127, 203), (132, 201), (137, 199), (139, 200), (142, 198), (144, 198), (144, 200), (143, 200), (141, 201), (139, 201), (137, 202), (130, 203)]\n",
      "O(a) bottom_lip nesta face tem os seguintes pontos: [(144, 200), (143, 203), (142, 205), (139, 206), (137, 207), (132, 206), (127, 203), (130, 203), (137, 202), (139, 202), (142, 201), (143, 200)]\n",
      "O(a) chin nesta face tem os seguintes pontos: [(283, 69), (283, 76), (283, 84), (283, 92), (285, 99), (288, 105), (292, 111), (296, 117), (302, 119), (309, 119), (315, 116), (321, 112), (327, 107), (332, 102), (335, 94), (338, 87), (340, 79)]\n",
      "O(a) left_eyebrow nesta face tem os seguintes pontos: [(289, 68), (293, 67), (297, 68), (301, 70), (305, 72)]\n",
      "O(a) right_eyebrow nesta face tem os seguintes pontos: [(314, 73), (319, 72), (324, 72), (329, 73), (333, 75)]\n",
      "O(a) nose_bridge nesta face tem os seguintes pontos: [(308, 78), (307, 83), (306, 88), (305, 94)]\n",
      "O(a) nose_tip nesta face tem os seguintes pontos: [(300, 95), (302, 97), (304, 98), (307, 98), (310, 97)]\n",
      "O(a) left_eye nesta face tem os seguintes pontos: [(293, 74), (296, 74), (300, 75), (302, 77), (299, 77), (295, 76)]\n",
      "O(a) right_eye nesta face tem os seguintes pontos: [(316, 80), (320, 79), (323, 79), (326, 81), (323, 82), (319, 81)]\n",
      "O(a) top_lip nesta face tem os seguintes pontos: [(295, 101), (299, 101), (302, 101), (304, 102), (306, 102), (310, 104), (314, 106), (313, 105), (306, 104), (304, 104), (302, 103), (296, 102)]\n",
      "O(a) bottom_lip nesta face tem os seguintes pontos: [(314, 106), (309, 108), (305, 109), (302, 108), (300, 107), (297, 105), (295, 101), (296, 102), (301, 104), (303, 105), (305, 105), (313, 105)]\n"
     ]
    }
   ],
   "source": [
    "# Encontrando todas as características faciais em todos os rostos na imagem\n",
    "face_landmarks_list = face_recognition.face_landmarks(image)\n",
    "\n",
    "# Criando um objeto imagedraw PIL para que possamos desenhar na imagem\n",
    "pil_image = Image.fromarray(image)\n",
    "d = ImageDraw.Draw(pil_image)\n",
    "\n",
    "for face_landmarks in face_landmarks_list:\n",
    "\n",
    "    # Imprimindo a localização de cada característica facial nesta imagem\n",
    "    for facial_feature in face_landmarks.keys():\n",
    "        print(\"O(a) {} nesta face tem os seguintes pontos: {}\".format(facial_feature, face_landmarks[facial_feature]))\n",
    "\n",
    "    # Vamos traçar cada característica facial da imagem com uma linha\n",
    "    for facial_feature in face_landmarks.keys():\n",
    "        d.line(face_landmarks[facial_feature], width=5)\n",
    "\n",
    "# Mostra a imagem\n",
    "pil_image.show()"
   ]
  },
  {
   "cell_type": "markdown",
   "metadata": {},
   "source": [
    "Saída:\n",
    "\n",
    "<img src=\"img/nova_imagem2.jpg\" alt=\"nova_imagem2.jpg\"/>\n",
    "\n",
    "### Reconhecendo pessoas\n",
    "\n",
    "No próximo exemplo, vamos tentar descobrir quem é a pessa da foto, se é *Obama* ou *Biden*.\n",
    "\n",
    "Para isso, vamos primeiro enviar imagens dessas pessoas, para que o modelo possa comparar as faces e tomar a decisão.\n",
    "\n",
    "Este é o nosso \"desconhecido\":\n",
    "\n",
    "<img src=\"img/obama2.jpg\" alt=\"obama2.jpg\" width=\"200\"/>"
   ]
  },
  {
   "cell_type": "code",
   "execution_count": 42,
   "metadata": {},
   "outputs": [
    {
     "name": "stdout",
     "output_type": "stream",
     "text": [
      "O rosto desconhecido é uma foto de Biden? False\n",
      "O rosto desconhecido é uma foto de Obama? True\n",
      "O rosto desconhecido é uma nova pessoa que nunca vimos antes? False\n"
     ]
    }
   ],
   "source": [
    "# Carregando os arquivos jpg em matrizes numpy\n",
    "biden_image = face_recognition.load_image_file(\"img/biden.jpg\")\n",
    "obama_image = face_recognition.load_image_file(\"img/obama.jpg\")\n",
    "unknown_image = face_recognition.load_image_file(\"img/obama2.jpg\") # foto do nosso 'desconhecido'\n",
    "\n",
    "# Obtendo as codificações de rosto para cada rosto em cada arquivo de imagem\n",
    "# Como pode haver mais de um rosto em cada imagem, ele retorna uma lista de codificações.\n",
    "# Mas como sabemos que cada imagem tem apenas uma face, vamos pegar a primeira codificação (índice 0)\n",
    "try:\n",
    "    biden_face_encoding = face_recognition.face_encodings(biden_image)[0]\n",
    "    obama_face_encoding = face_recognition.face_encodings(obama_image)[0]\n",
    "    unknown_face_encoding = face_recognition.face_encodings(unknown_image)[0]\n",
    "except IndexError:\n",
    "    print(\"Não foi possível localizar nenhum rosto em pelo menos uma das imagens. Verifique os arquivos de imagem. Abortando ...\")\n",
    "    quit()\n",
    "\n",
    "known_faces = [\n",
    "    biden_face_encoding,\n",
    "    obama_face_encoding\n",
    "]\n",
    "\n",
    "# resultados é uma matriz de True / False que informa se o rosto desconhecido corresponde a alguém na matriz known_faces\n",
    "results = face_recognition.compare_faces(known_faces, unknown_face_encoding)\n",
    "\n",
    "print(\"O rosto desconhecido é uma foto de Biden? {}\".format(results[0]))\n",
    "print(\"O rosto desconhecido é uma foto de Obama? {}\".format(results[1]))\n",
    "print(\"O rosto desconhecido é uma nova pessoa que nunca vimos antes? {}\".format(not True in results))"
   ]
  }
 ],
 "metadata": {
  "kernelspec": {
   "display_name": "Python 3",
   "language": "python",
   "name": "python3"
  },
  "language_info": {
   "codemirror_mode": {
    "name": "ipython",
    "version": 3
   },
   "file_extension": ".py",
   "mimetype": "text/x-python",
   "name": "python",
   "nbconvert_exporter": "python",
   "pygments_lexer": "ipython3",
   "version": "3.6.12"
  }
 },
 "nbformat": 4,
 "nbformat_minor": 4
}
